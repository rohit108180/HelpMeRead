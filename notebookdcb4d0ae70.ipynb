{
 "cells": [
  {
   "cell_type": "code",
   "execution_count": 2,
   "metadata": {
    "_cell_guid": "b1076dfc-b9ad-4769-8c92-a6c4dae69d19",
    "_uuid": "8f2839f25d086af736a60e9eeb907d3b93b6e0e5"
   },
   "outputs": [],
   "source": [
    "# !pip install PyPDF2\n",
    "# !pip install sentence-transformers\n",
    "# !pip install chromadb\n",
    "import PyPDF2\n",
    "from sentence_transformers import SentenceTransformer\n",
    "import chromadb\n",
    "import ollama\n",
    "embedding_model = SentenceTransformer('sentence-transformers/all-mpnet-base-v2')\n",
    "chroma_client = chromadb.PersistentClient(path=\"./database\");\n",
    "existing_collections =  [collection.name for collection in chroma_client.list_collections()]\n",
    "if \"chathistory\" in existing_collections:\n",
    "    historyCollection = chroma_client.get_collection(name='chathistory')\n",
    "else:\n",
    "    historyCollection = chroma_client.create_collection(name ='chathistory')\n",
    "    existing_collections =  [collection.name for collection in chroma_client.list_collections()]"
   ]
  },
  {
   "cell_type": "code",
   "execution_count": 3,
   "metadata": {},
   "outputs": [],
   "source": [
    "def get_overlapped_chunks(textin, chunksize, overlapsize):  \n",
    "    return [textin[a:a+chunksize] for a in range(0,len(textin), chunksize-overlapsize)]"
   ]
  },
  {
   "cell_type": "code",
   "execution_count": 4,
   "metadata": {},
   "outputs": [],
   "source": [
    "def readPdf(filepath, refreshDB = False):\n",
    "    global collection\n",
    "    global existing_collections\n",
    "    filename = filepath.split('/')[-1].split(\".\")[0]\n",
    "    \n",
    "    if filename in existing_collections:\n",
    "        if refreshDB == False :\n",
    "            print(\"db already exists\")\n",
    "            collection = chroma_client.get_collection(name=filename)\n",
    "            return;\n",
    "        else :\n",
    "            print(\"refreshing db\")\n",
    "            chroma_client.delete_collection(name=filename)\n",
    "            \n",
    "    reader  = PyPDF2.PdfReader(filepath)\n",
    "    pages = [page.extract_text() for page in reader.pages]\n",
    "    document  = '\\n'.join(pages)\n",
    "    print(\"document read\")\n",
    "    chunks = get_overlapped_chunks(document, 1000, 0)\n",
    "    print(\"chunks created\")\n",
    "    chunk_embeddings = embedding_model.encode(chunks)\n",
    "    print(\"chunk_embeddings created\")\n",
    "    collection = chroma_client.create_collection(name=filename);\n",
    "    existing_collections =  [collection.name for collection in chroma_client.list_collections()]\n",
    "    collection.add(\n",
    "        embeddings = chunk_embeddings,\n",
    "        documents=chunks,\n",
    "        ids= [str(i) for i in range(len(chunks))]\n",
    "    )\n",
    "    print(\"collection updated\")\n",
    "    "
   ]
  },
  {
   "cell_type": "code",
   "execution_count": 5,
   "metadata": {},
   "outputs": [],
   "source": [
    "def retrieve_context(query, n_results=3):\n",
    "    results = collection.query(\n",
    "    query_embeddings = embedding_model.encode(query).tolist(),\n",
    "    n_results=n_results\n",
    "    )\n",
    "    return \"\\n\\n\".join(results['documents'][0])\n",
    "    \n",
    "def retrieve_history(query, n_results=3):\n",
    "    results = historyCollection.query(\n",
    "    query_embeddings = embedding_model.encode(query).tolist(),\n",
    "    n_results=n_results\n",
    "    )\n",
    "    return \"\\n\\n\".join(results['documents'][0])"
   ]
  },
  {
   "cell_type": "code",
   "execution_count": 13,
   "metadata": {},
   "outputs": [],
   "source": [
    "chatHistory = []\n",
    "def chat( query, context,history,chatBotName):\n",
    "    global chatHistory\n",
    "    stream = ollama.chat(model='llama2', messages=[\n",
    "        {\n",
    "            'role': 'system',\n",
    "            'content': chatBotType[chatBotName] + \"You can answer question only based on the context provided to you. It is strictly commaned to not to use emoji's anywhere in the response.This is the Context : \"+context+\". You are also provided with the chathistory context related to your query which can be used to see if user is refering from the chats already happened. ChatHisotryContext:\"+'\\n'.join(chatHistory),\n",
    "        },\n",
    "        {\n",
    "            'role': 'user',\n",
    "            'content': query,\n",
    "        }],\n",
    "        stream=True,\n",
    "    )\n",
    "    response =\"\"\n",
    "    print (\"Bot : \")\n",
    "    for chunk in stream:\n",
    "        print(chunk['message']['content'], end='', flush=True)\n",
    "        response+=chunk['message']['content']+\" \"\n",
    "\n",
    "    chatLine = \" User : \"+query + \"\\n Assistant : \" + response\n",
    "    chatHistory.append(chatLine)\n",
    "    if len(chatHistory):\n",
    "        chatHistory.pop(0)\n",
    "\n",
    "    # print( \"\\n Chat line \", chatLine);\n",
    "    # print( \"\\n Chat History\", chatHistory)"
   ]
  },
  {
   "cell_type": "code",
   "execution_count": 14,
   "metadata": {},
   "outputs": [],
   "source": [
    "chatBotType = {h\n",
    "    'companion' : \"I want you to act as Companion bot, A friend that always there for the person uses it. You are gender independent. You are best Friend and can never hurt feelings of the person, you will be give some related context from pshycology to help you ask more accurate questions.Ask only one question at a time and don't combine many questions in the responnse, Keep the response short and consise like chat between two friends.\",\n",
    "    'pdfhelper' : \"You are a pdf reader which helps the user with any query they have regarding the pdf, keep the response clear and consise and only related to the query .provide response to users queries only\"\n",
    "}"
   ]
  },
  {
   "cell_type": "code",
   "execution_count": 15,
   "metadata": {},
   "outputs": [
    {
     "name": "stdout",
     "output_type": "stream",
     "text": [
      "db already exists\n"
     ]
    }
   ],
   "source": [
    "readPdf('seven_habits.pdf');"
   ]
  },
  {
   "cell_type": "code",
   "execution_count": null,
   "metadata": {},
   "outputs": [
    {
     "name": "stdout",
     "output_type": "stream",
     "text": [
      "\n",
      "\n"
     ]
    },
    {
     "name": "stdin",
     "output_type": "stream",
     "text": [
      "You  :  hey\n"
     ]
    },
    {
     "name": "stdout",
     "output_type": "stream",
     "text": [
      "Bot : \n",
      "Hello! How may I help you today? Please provide your query or question, and I'll do my best to assist you.\n",
      "\n"
     ]
    },
    {
     "name": "stdin",
     "output_type": "stream",
     "text": [
      "You  :  i have 3 friends\n"
     ]
    },
    {
     "name": "stdout",
     "output_type": "stream",
     "text": [
      "Bot : \n",
      "Great, I'm here to help you with any questions or concerns you may have about your PDFs! Can you please provide more context or specify what you need help with?\n",
      "\n"
     ]
    },
    {
     "name": "stdin",
     "output_type": "stream",
     "text": [
      "You  :  how many friends do i have\n"
     ]
    },
    {
     "name": "stdout",
     "output_type": "stream",
     "text": [
      "Bot : \n",
      "To determine how many friends you have, I would need more information. Could you please provide me with more context or clarify your question? For example, are you referring to the number of friends on a social media platform or in real life? Additionally, do you want to know the exact number of friends you have, or is this a hypothetical question? Please let me know and I'll do my best to help.\n",
      "\n"
     ]
    },
    {
     "name": "stdin",
     "output_type": "stream",
     "text": [
      "You  :  list down 3 ways to exersise\n"
     ]
    },
    {
     "name": "stdout",
     "output_type": "stream",
     "text": [
      "Bot : \n",
      "Of course! Here are three ways to exercise based on the information provided in the chat history context:\n",
      "\n",
      "1. Cardio exercises: The user has been talking about running and cycling, which are both cardiovascular exercises that can help improve heart health and increase endurance.\n",
      "2. Strength training: The user has mentioned weightlifting, which is a form of strength training that can help build muscle mass and bone density.\n",
      "3. Yoga or Pilates: The user has mentioned doing yoga or pilates, which are both low-impact exercises that can help improve flexibility and balance, as well as reduce stress and anxiety.\n",
      "\n"
     ]
    },
    {
     "name": "stdin",
     "output_type": "stream",
     "text": [
      "You  :  tell me about the 2nd option\n"
     ]
    },
    {
     "name": "stdout",
     "output_type": "stream",
     "text": [
      "Bot : \n",
      "Thank you for reaching out! I'm here to help you with any questions or concerns you may have regarding PDFs. Could you please provide more context or clarify which option you are referring to? I'll do my best to assist you based on the information provided.\n",
      "\n"
     ]
    }
   ],
   "source": [
    "while(1):\n",
    "    print(\"\\n\")\n",
    "    query = input(\"You  : \");\n",
    "    if query == \"exit\":\n",
    "        break\n",
    "    context  = retrieve_context(query,3)\n",
    "    history  = retrieve_history(query,2)\n",
    "    chat(query, '',history, 'pdfhelper');"
   ]
  },
  {
   "cell_type": "code",
   "execution_count": null,
   "metadata": {},
   "outputs": [],
   "source": []
  },
  {
   "cell_type": "code",
   "execution_count": 4,
   "metadata": {},
   "outputs": [
    {
     "data": {
      "text/plain": [
       "['resume', 'chathistory', 'pdfcollection']"
      ]
     },
     "execution_count": 4,
     "metadata": {},
     "output_type": "execute_result"
    }
   ],
   "source": [
    "# chroma_client.delete_collection(name=\"pdfcollection\")\n"
   ]
  },
  {
   "cell_type": "code",
   "execution_count": null,
   "metadata": {},
   "outputs": [],
   "source": []
  },
  {
   "cell_type": "code",
   "execution_count": 29,
   "metadata": {},
   "outputs": [
    {
     "data": {
      "text/plain": [
       "'filennew'"
      ]
     },
     "execution_count": 29,
     "metadata": {},
     "output_type": "execute_result"
    }
   ],
   "source": []
  },
  {
   "cell_type": "code",
   "execution_count": null,
   "metadata": {},
   "outputs": [],
   "source": []
  }
 ],
 "metadata": {
  "kaggle": {
   "accelerator": "none",
   "dataSources": [
    {
     "datasetId": 4653191,
     "sourceId": 7918841,
     "sourceType": "datasetVersion"
    }
   ],
   "dockerImageVersionId": 30673,
   "isGpuEnabled": false,
   "isInternetEnabled": true,
   "language": "python",
   "sourceType": "notebook"
  },
  "kernelspec": {
   "display_name": "Python 3 (ipykernel)",
   "language": "python",
   "name": "python3"
  },
  "language_info": {
   "codemirror_mode": {
    "name": "ipython",
    "version": 3
   },
   "file_extension": ".py",
   "mimetype": "text/x-python",
   "name": "python",
   "nbconvert_exporter": "python",
   "pygments_lexer": "ipython3",
   "version": "3.10.12"
  }
 },
 "nbformat": 4,
 "nbformat_minor": 4
}
